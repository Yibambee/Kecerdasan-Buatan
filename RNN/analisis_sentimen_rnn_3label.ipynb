{
  "nbformat": 4,
  "nbformat_minor": 0,
  "metadata": {
    "colab": {
      "provenance": [],
      "toc_visible": true,
      "gpuType": "T4"
    },
    "kernelspec": {
      "name": "python3",
      "display_name": "Python 3"
    },
    "language_info": {
      "name": "python"
    },
    "accelerator": "TPU"
  },
  "cells": [
    {
      "cell_type": "markdown",
      "source": [
        "# Praktikum AI - RNN\n",
        "## Komang Niko Romano Prodi\n",
        "## 222011356 / 3SD1 / 06"
      ],
      "metadata": {
        "id": "4iVpED6wdWl6"
      }
    },
    {
      "cell_type": "markdown",
      "source": [
        "## Persiapan"
      ],
      "metadata": {
        "id": "FsIuurE3djUM"
      }
    },
    {
      "cell_type": "code",
      "source": [
        "import pandas as pd "
      ],
      "metadata": {
        "id": "e0Hv9hW_djAa"
      },
      "execution_count": null,
      "outputs": []
    },
    {
      "cell_type": "code",
      "execution_count": null,
      "metadata": {
        "colab": {
          "base_uri": "https://localhost:8080/"
        },
        "id": "bdx73UCUcfS1",
        "outputId": "2833d57d-86d8-4844-af86-c091184bd98e"
      },
      "outputs": [
        {
          "output_type": "stream",
          "name": "stdout",
          "text": [
            "Mounted at /content/drive\n"
          ]
        }
      ],
      "source": [
        "from google.colab import drive\n",
        "drive.mount(\"/content/drive\", force_remount=True)\n"
      ]
    },
    {
      "cell_type": "markdown",
      "source": [
        "## Baca Data "
      ],
      "metadata": {
        "id": "XWykB5DoekHv"
      }
    },
    {
      "cell_type": "code",
      "source": [
        "df = pd.read_csv('/content/drive/MyDrive/RNN/Tweets.csv')\n",
        "df.head()"
      ],
      "metadata": {
        "colab": {
          "base_uri": "https://localhost:8080/",
          "height": 495
        },
        "id": "FuqGPka5eKVh",
        "outputId": "d2f83eaa-f5cc-4679-c5e0-2bdb76c0fac8"
      },
      "execution_count": null,
      "outputs": [
        {
          "output_type": "execute_result",
          "data": {
            "text/plain": [
              "             tweet_id airline_sentiment  airline_sentiment_confidence  \\\n",
              "0  570306133677760513           neutral                        1.0000   \n",
              "1  570301130888122368          positive                        0.3486   \n",
              "2  570301083672813571           neutral                        0.6837   \n",
              "3  570301031407624196          negative                        1.0000   \n",
              "4  570300817074462722          negative                        1.0000   \n",
              "\n",
              "  negativereason  negativereason_confidence         airline  \\\n",
              "0            NaN                        NaN  Virgin America   \n",
              "1            NaN                     0.0000  Virgin America   \n",
              "2            NaN                        NaN  Virgin America   \n",
              "3     Bad Flight                     0.7033  Virgin America   \n",
              "4     Can't Tell                     1.0000  Virgin America   \n",
              "\n",
              "  airline_sentiment_gold        name negativereason_gold  retweet_count  \\\n",
              "0                    NaN     cairdin                 NaN              0   \n",
              "1                    NaN    jnardino                 NaN              0   \n",
              "2                    NaN  yvonnalynn                 NaN              0   \n",
              "3                    NaN    jnardino                 NaN              0   \n",
              "4                    NaN    jnardino                 NaN              0   \n",
              "\n",
              "                                                text tweet_coord  \\\n",
              "0                @VirginAmerica What @dhepburn said.         NaN   \n",
              "1  @VirginAmerica plus you've added commercials t...         NaN   \n",
              "2  @VirginAmerica I didn't today... Must mean I n...         NaN   \n",
              "3  @VirginAmerica it's really aggressive to blast...         NaN   \n",
              "4  @VirginAmerica and it's a really big bad thing...         NaN   \n",
              "\n",
              "               tweet_created tweet_location               user_timezone  \n",
              "0  2015-02-24 11:35:52 -0800            NaN  Eastern Time (US & Canada)  \n",
              "1  2015-02-24 11:15:59 -0800            NaN  Pacific Time (US & Canada)  \n",
              "2  2015-02-24 11:15:48 -0800      Lets Play  Central Time (US & Canada)  \n",
              "3  2015-02-24 11:15:36 -0800            NaN  Pacific Time (US & Canada)  \n",
              "4  2015-02-24 11:14:45 -0800            NaN  Pacific Time (US & Canada)  "
            ],
            "text/html": [
              "\n",
              "  <div id=\"df-b3c274ea-242c-48b0-8f16-e45bc6086930\">\n",
              "    <div class=\"colab-df-container\">\n",
              "      <div>\n",
              "<style scoped>\n",
              "    .dataframe tbody tr th:only-of-type {\n",
              "        vertical-align: middle;\n",
              "    }\n",
              "\n",
              "    .dataframe tbody tr th {\n",
              "        vertical-align: top;\n",
              "    }\n",
              "\n",
              "    .dataframe thead th {\n",
              "        text-align: right;\n",
              "    }\n",
              "</style>\n",
              "<table border=\"1\" class=\"dataframe\">\n",
              "  <thead>\n",
              "    <tr style=\"text-align: right;\">\n",
              "      <th></th>\n",
              "      <th>tweet_id</th>\n",
              "      <th>airline_sentiment</th>\n",
              "      <th>airline_sentiment_confidence</th>\n",
              "      <th>negativereason</th>\n",
              "      <th>negativereason_confidence</th>\n",
              "      <th>airline</th>\n",
              "      <th>airline_sentiment_gold</th>\n",
              "      <th>name</th>\n",
              "      <th>negativereason_gold</th>\n",
              "      <th>retweet_count</th>\n",
              "      <th>text</th>\n",
              "      <th>tweet_coord</th>\n",
              "      <th>tweet_created</th>\n",
              "      <th>tweet_location</th>\n",
              "      <th>user_timezone</th>\n",
              "    </tr>\n",
              "  </thead>\n",
              "  <tbody>\n",
              "    <tr>\n",
              "      <th>0</th>\n",
              "      <td>570306133677760513</td>\n",
              "      <td>neutral</td>\n",
              "      <td>1.0000</td>\n",
              "      <td>NaN</td>\n",
              "      <td>NaN</td>\n",
              "      <td>Virgin America</td>\n",
              "      <td>NaN</td>\n",
              "      <td>cairdin</td>\n",
              "      <td>NaN</td>\n",
              "      <td>0</td>\n",
              "      <td>@VirginAmerica What @dhepburn said.</td>\n",
              "      <td>NaN</td>\n",
              "      <td>2015-02-24 11:35:52 -0800</td>\n",
              "      <td>NaN</td>\n",
              "      <td>Eastern Time (US &amp; Canada)</td>\n",
              "    </tr>\n",
              "    <tr>\n",
              "      <th>1</th>\n",
              "      <td>570301130888122368</td>\n",
              "      <td>positive</td>\n",
              "      <td>0.3486</td>\n",
              "      <td>NaN</td>\n",
              "      <td>0.0000</td>\n",
              "      <td>Virgin America</td>\n",
              "      <td>NaN</td>\n",
              "      <td>jnardino</td>\n",
              "      <td>NaN</td>\n",
              "      <td>0</td>\n",
              "      <td>@VirginAmerica plus you've added commercials t...</td>\n",
              "      <td>NaN</td>\n",
              "      <td>2015-02-24 11:15:59 -0800</td>\n",
              "      <td>NaN</td>\n",
              "      <td>Pacific Time (US &amp; Canada)</td>\n",
              "    </tr>\n",
              "    <tr>\n",
              "      <th>2</th>\n",
              "      <td>570301083672813571</td>\n",
              "      <td>neutral</td>\n",
              "      <td>0.6837</td>\n",
              "      <td>NaN</td>\n",
              "      <td>NaN</td>\n",
              "      <td>Virgin America</td>\n",
              "      <td>NaN</td>\n",
              "      <td>yvonnalynn</td>\n",
              "      <td>NaN</td>\n",
              "      <td>0</td>\n",
              "      <td>@VirginAmerica I didn't today... Must mean I n...</td>\n",
              "      <td>NaN</td>\n",
              "      <td>2015-02-24 11:15:48 -0800</td>\n",
              "      <td>Lets Play</td>\n",
              "      <td>Central Time (US &amp; Canada)</td>\n",
              "    </tr>\n",
              "    <tr>\n",
              "      <th>3</th>\n",
              "      <td>570301031407624196</td>\n",
              "      <td>negative</td>\n",
              "      <td>1.0000</td>\n",
              "      <td>Bad Flight</td>\n",
              "      <td>0.7033</td>\n",
              "      <td>Virgin America</td>\n",
              "      <td>NaN</td>\n",
              "      <td>jnardino</td>\n",
              "      <td>NaN</td>\n",
              "      <td>0</td>\n",
              "      <td>@VirginAmerica it's really aggressive to blast...</td>\n",
              "      <td>NaN</td>\n",
              "      <td>2015-02-24 11:15:36 -0800</td>\n",
              "      <td>NaN</td>\n",
              "      <td>Pacific Time (US &amp; Canada)</td>\n",
              "    </tr>\n",
              "    <tr>\n",
              "      <th>4</th>\n",
              "      <td>570300817074462722</td>\n",
              "      <td>negative</td>\n",
              "      <td>1.0000</td>\n",
              "      <td>Can't Tell</td>\n",
              "      <td>1.0000</td>\n",
              "      <td>Virgin America</td>\n",
              "      <td>NaN</td>\n",
              "      <td>jnardino</td>\n",
              "      <td>NaN</td>\n",
              "      <td>0</td>\n",
              "      <td>@VirginAmerica and it's a really big bad thing...</td>\n",
              "      <td>NaN</td>\n",
              "      <td>2015-02-24 11:14:45 -0800</td>\n",
              "      <td>NaN</td>\n",
              "      <td>Pacific Time (US &amp; Canada)</td>\n",
              "    </tr>\n",
              "  </tbody>\n",
              "</table>\n",
              "</div>\n",
              "      <button class=\"colab-df-convert\" onclick=\"convertToInteractive('df-b3c274ea-242c-48b0-8f16-e45bc6086930')\"\n",
              "              title=\"Convert this dataframe to an interactive table.\"\n",
              "              style=\"display:none;\">\n",
              "        \n",
              "  <svg xmlns=\"http://www.w3.org/2000/svg\" height=\"24px\"viewBox=\"0 0 24 24\"\n",
              "       width=\"24px\">\n",
              "    <path d=\"M0 0h24v24H0V0z\" fill=\"none\"/>\n",
              "    <path d=\"M18.56 5.44l.94 2.06.94-2.06 2.06-.94-2.06-.94-.94-2.06-.94 2.06-2.06.94zm-11 1L8.5 8.5l.94-2.06 2.06-.94-2.06-.94L8.5 2.5l-.94 2.06-2.06.94zm10 10l.94 2.06.94-2.06 2.06-.94-2.06-.94-.94-2.06-.94 2.06-2.06.94z\"/><path d=\"M17.41 7.96l-1.37-1.37c-.4-.4-.92-.59-1.43-.59-.52 0-1.04.2-1.43.59L10.3 9.45l-7.72 7.72c-.78.78-.78 2.05 0 2.83L4 21.41c.39.39.9.59 1.41.59.51 0 1.02-.2 1.41-.59l7.78-7.78 2.81-2.81c.8-.78.8-2.07 0-2.86zM5.41 20L4 18.59l7.72-7.72 1.47 1.35L5.41 20z\"/>\n",
              "  </svg>\n",
              "      </button>\n",
              "      \n",
              "  <style>\n",
              "    .colab-df-container {\n",
              "      display:flex;\n",
              "      flex-wrap:wrap;\n",
              "      gap: 12px;\n",
              "    }\n",
              "\n",
              "    .colab-df-convert {\n",
              "      background-color: #E8F0FE;\n",
              "      border: none;\n",
              "      border-radius: 50%;\n",
              "      cursor: pointer;\n",
              "      display: none;\n",
              "      fill: #1967D2;\n",
              "      height: 32px;\n",
              "      padding: 0 0 0 0;\n",
              "      width: 32px;\n",
              "    }\n",
              "\n",
              "    .colab-df-convert:hover {\n",
              "      background-color: #E2EBFA;\n",
              "      box-shadow: 0px 1px 2px rgba(60, 64, 67, 0.3), 0px 1px 3px 1px rgba(60, 64, 67, 0.15);\n",
              "      fill: #174EA6;\n",
              "    }\n",
              "\n",
              "    [theme=dark] .colab-df-convert {\n",
              "      background-color: #3B4455;\n",
              "      fill: #D2E3FC;\n",
              "    }\n",
              "\n",
              "    [theme=dark] .colab-df-convert:hover {\n",
              "      background-color: #434B5C;\n",
              "      box-shadow: 0px 1px 3px 1px rgba(0, 0, 0, 0.15);\n",
              "      filter: drop-shadow(0px 1px 2px rgba(0, 0, 0, 0.3));\n",
              "      fill: #FFFFFF;\n",
              "    }\n",
              "  </style>\n",
              "\n",
              "      <script>\n",
              "        const buttonEl =\n",
              "          document.querySelector('#df-b3c274ea-242c-48b0-8f16-e45bc6086930 button.colab-df-convert');\n",
              "        buttonEl.style.display =\n",
              "          google.colab.kernel.accessAllowed ? 'block' : 'none';\n",
              "\n",
              "        async function convertToInteractive(key) {\n",
              "          const element = document.querySelector('#df-b3c274ea-242c-48b0-8f16-e45bc6086930');\n",
              "          const dataTable =\n",
              "            await google.colab.kernel.invokeFunction('convertToInteractive',\n",
              "                                                     [key], {});\n",
              "          if (!dataTable) return;\n",
              "\n",
              "          const docLinkHtml = 'Like what you see? Visit the ' +\n",
              "            '<a target=\"_blank\" href=https://colab.research.google.com/notebooks/data_table.ipynb>data table notebook</a>'\n",
              "            + ' to learn more about interactive tables.';\n",
              "          element.innerHTML = '';\n",
              "          dataTable['output_type'] = 'display_data';\n",
              "          await google.colab.output.renderOutput(dataTable, element);\n",
              "          const docLink = document.createElement('div');\n",
              "          docLink.innerHTML = docLinkHtml;\n",
              "          element.appendChild(docLink);\n",
              "        }\n",
              "      </script>\n",
              "    </div>\n",
              "  </div>\n",
              "  "
            ]
          },
          "metadata": {},
          "execution_count": 3
        }
      ]
    },
    {
      "cell_type": "markdown",
      "source": [
        "## Preprocessing"
      ],
      "metadata": {
        "id": "aGY5q3QKss4n"
      }
    },
    {
      "cell_type": "code",
      "source": [
        "!pip install tweet-preprocessor"
      ],
      "metadata": {
        "colab": {
          "base_uri": "https://localhost:8080/"
        },
        "id": "ucLD1-A8fEXT",
        "outputId": "4b95253e-f5cb-4696-c48d-c3c724f5ad87"
      },
      "execution_count": null,
      "outputs": [
        {
          "output_type": "stream",
          "name": "stdout",
          "text": [
            "Looking in indexes: https://pypi.org/simple, https://us-python.pkg.dev/colab-wheels/public/simple/\n",
            "Collecting tweet-preprocessor\n",
            "  Downloading tweet_preprocessor-0.6.0-py3-none-any.whl (27 kB)\n",
            "Installing collected packages: tweet-preprocessor\n",
            "Successfully installed tweet-preprocessor-0.6.0\n"
          ]
        }
      ]
    },
    {
      "cell_type": "code",
      "source": [
        "df['text_clean'] = ''\n",
        "import preprocessor as p\n",
        "import re\n",
        "\n",
        "#forming a separate feature for cleaned tweets\n",
        "for i,v in enumerate(df['text']):\n",
        "  df.loc[i,'text_clean'] = p.clean(v)\n",
        "\n",
        "# converting all text to lower case\n",
        "df['text_clean'] = df['text_clean'].apply(str.lower)\n",
        "\n",
        "# using regex to remove punctuation\n",
        "df['text_clean'] = df['text_clean'].apply(lambda x: re.sub(r'[^\\w\\s]', '', x))"
      ],
      "metadata": {
        "id": "x4zc3LdMe3tY"
      },
      "execution_count": null,
      "outputs": []
    },
    {
      "cell_type": "code",
      "source": [
        "df[['text', 'text_clean']]"
      ],
      "metadata": {
        "colab": {
          "base_uri": "https://localhost:8080/",
          "height": 423
        },
        "id": "Eg8-F0P3fDJY",
        "outputId": "22ba21a2-0cab-4085-b3d0-55dc8e86592f"
      },
      "execution_count": null,
      "outputs": [
        {
          "output_type": "execute_result",
          "data": {
            "text/plain": [
              "                                                    text  \\\n",
              "0                    @VirginAmerica What @dhepburn said.   \n",
              "1      @VirginAmerica plus you've added commercials t...   \n",
              "2      @VirginAmerica I didn't today... Must mean I n...   \n",
              "3      @VirginAmerica it's really aggressive to blast...   \n",
              "4      @VirginAmerica and it's a really big bad thing...   \n",
              "...                                                  ...   \n",
              "14635  @AmericanAir thank you we got on a different f...   \n",
              "14636  @AmericanAir leaving over 20 minutes Late Flig...   \n",
              "14637  @AmericanAir Please bring American Airlines to...   \n",
              "14638  @AmericanAir you have my money, you change my ...   \n",
              "14639  @AmericanAir we have 8 ppl so we need 2 know h...   \n",
              "\n",
              "                                              text_clean  \n",
              "0                                              what said  \n",
              "1      plus youve added commercials to the experience...  \n",
              "2      i didnt today must mean i need to take another...  \n",
              "3      its really aggressive to blast obnoxious enter...  \n",
              "4                and its a really big bad thing about it  \n",
              "...                                                  ...  \n",
              "14635  thank you we got on a different flight to chicago  \n",
              "14636  leaving over minutes late flight no warnings o...  \n",
              "14637                  please bring american airlines to  \n",
              "14638  you have my money you change my flight and don...  \n",
              "14639  we have ppl so we need know how many seats are...  \n",
              "\n",
              "[14640 rows x 2 columns]"
            ],
            "text/html": [
              "\n",
              "  <div id=\"df-452c535e-5939-4628-9b5a-02e39d4d3640\">\n",
              "    <div class=\"colab-df-container\">\n",
              "      <div>\n",
              "<style scoped>\n",
              "    .dataframe tbody tr th:only-of-type {\n",
              "        vertical-align: middle;\n",
              "    }\n",
              "\n",
              "    .dataframe tbody tr th {\n",
              "        vertical-align: top;\n",
              "    }\n",
              "\n",
              "    .dataframe thead th {\n",
              "        text-align: right;\n",
              "    }\n",
              "</style>\n",
              "<table border=\"1\" class=\"dataframe\">\n",
              "  <thead>\n",
              "    <tr style=\"text-align: right;\">\n",
              "      <th></th>\n",
              "      <th>text</th>\n",
              "      <th>text_clean</th>\n",
              "    </tr>\n",
              "  </thead>\n",
              "  <tbody>\n",
              "    <tr>\n",
              "      <th>0</th>\n",
              "      <td>@VirginAmerica What @dhepburn said.</td>\n",
              "      <td>what said</td>\n",
              "    </tr>\n",
              "    <tr>\n",
              "      <th>1</th>\n",
              "      <td>@VirginAmerica plus you've added commercials t...</td>\n",
              "      <td>plus youve added commercials to the experience...</td>\n",
              "    </tr>\n",
              "    <tr>\n",
              "      <th>2</th>\n",
              "      <td>@VirginAmerica I didn't today... Must mean I n...</td>\n",
              "      <td>i didnt today must mean i need to take another...</td>\n",
              "    </tr>\n",
              "    <tr>\n",
              "      <th>3</th>\n",
              "      <td>@VirginAmerica it's really aggressive to blast...</td>\n",
              "      <td>its really aggressive to blast obnoxious enter...</td>\n",
              "    </tr>\n",
              "    <tr>\n",
              "      <th>4</th>\n",
              "      <td>@VirginAmerica and it's a really big bad thing...</td>\n",
              "      <td>and its a really big bad thing about it</td>\n",
              "    </tr>\n",
              "    <tr>\n",
              "      <th>...</th>\n",
              "      <td>...</td>\n",
              "      <td>...</td>\n",
              "    </tr>\n",
              "    <tr>\n",
              "      <th>14635</th>\n",
              "      <td>@AmericanAir thank you we got on a different f...</td>\n",
              "      <td>thank you we got on a different flight to chicago</td>\n",
              "    </tr>\n",
              "    <tr>\n",
              "      <th>14636</th>\n",
              "      <td>@AmericanAir leaving over 20 minutes Late Flig...</td>\n",
              "      <td>leaving over minutes late flight no warnings o...</td>\n",
              "    </tr>\n",
              "    <tr>\n",
              "      <th>14637</th>\n",
              "      <td>@AmericanAir Please bring American Airlines to...</td>\n",
              "      <td>please bring american airlines to</td>\n",
              "    </tr>\n",
              "    <tr>\n",
              "      <th>14638</th>\n",
              "      <td>@AmericanAir you have my money, you change my ...</td>\n",
              "      <td>you have my money you change my flight and don...</td>\n",
              "    </tr>\n",
              "    <tr>\n",
              "      <th>14639</th>\n",
              "      <td>@AmericanAir we have 8 ppl so we need 2 know h...</td>\n",
              "      <td>we have ppl so we need know how many seats are...</td>\n",
              "    </tr>\n",
              "  </tbody>\n",
              "</table>\n",
              "<p>14640 rows × 2 columns</p>\n",
              "</div>\n",
              "      <button class=\"colab-df-convert\" onclick=\"convertToInteractive('df-452c535e-5939-4628-9b5a-02e39d4d3640')\"\n",
              "              title=\"Convert this dataframe to an interactive table.\"\n",
              "              style=\"display:none;\">\n",
              "        \n",
              "  <svg xmlns=\"http://www.w3.org/2000/svg\" height=\"24px\"viewBox=\"0 0 24 24\"\n",
              "       width=\"24px\">\n",
              "    <path d=\"M0 0h24v24H0V0z\" fill=\"none\"/>\n",
              "    <path d=\"M18.56 5.44l.94 2.06.94-2.06 2.06-.94-2.06-.94-.94-2.06-.94 2.06-2.06.94zm-11 1L8.5 8.5l.94-2.06 2.06-.94-2.06-.94L8.5 2.5l-.94 2.06-2.06.94zm10 10l.94 2.06.94-2.06 2.06-.94-2.06-.94-.94-2.06-.94 2.06-2.06.94z\"/><path d=\"M17.41 7.96l-1.37-1.37c-.4-.4-.92-.59-1.43-.59-.52 0-1.04.2-1.43.59L10.3 9.45l-7.72 7.72c-.78.78-.78 2.05 0 2.83L4 21.41c.39.39.9.59 1.41.59.51 0 1.02-.2 1.41-.59l7.78-7.78 2.81-2.81c.8-.78.8-2.07 0-2.86zM5.41 20L4 18.59l7.72-7.72 1.47 1.35L5.41 20z\"/>\n",
              "  </svg>\n",
              "      </button>\n",
              "      \n",
              "  <style>\n",
              "    .colab-df-container {\n",
              "      display:flex;\n",
              "      flex-wrap:wrap;\n",
              "      gap: 12px;\n",
              "    }\n",
              "\n",
              "    .colab-df-convert {\n",
              "      background-color: #E8F0FE;\n",
              "      border: none;\n",
              "      border-radius: 50%;\n",
              "      cursor: pointer;\n",
              "      display: none;\n",
              "      fill: #1967D2;\n",
              "      height: 32px;\n",
              "      padding: 0 0 0 0;\n",
              "      width: 32px;\n",
              "    }\n",
              "\n",
              "    .colab-df-convert:hover {\n",
              "      background-color: #E2EBFA;\n",
              "      box-shadow: 0px 1px 2px rgba(60, 64, 67, 0.3), 0px 1px 3px 1px rgba(60, 64, 67, 0.15);\n",
              "      fill: #174EA6;\n",
              "    }\n",
              "\n",
              "    [theme=dark] .colab-df-convert {\n",
              "      background-color: #3B4455;\n",
              "      fill: #D2E3FC;\n",
              "    }\n",
              "\n",
              "    [theme=dark] .colab-df-convert:hover {\n",
              "      background-color: #434B5C;\n",
              "      box-shadow: 0px 1px 3px 1px rgba(0, 0, 0, 0.15);\n",
              "      filter: drop-shadow(0px 1px 2px rgba(0, 0, 0, 0.3));\n",
              "      fill: #FFFFFF;\n",
              "    }\n",
              "  </style>\n",
              "\n",
              "      <script>\n",
              "        const buttonEl =\n",
              "          document.querySelector('#df-452c535e-5939-4628-9b5a-02e39d4d3640 button.colab-df-convert');\n",
              "        buttonEl.style.display =\n",
              "          google.colab.kernel.accessAllowed ? 'block' : 'none';\n",
              "\n",
              "        async function convertToInteractive(key) {\n",
              "          const element = document.querySelector('#df-452c535e-5939-4628-9b5a-02e39d4d3640');\n",
              "          const dataTable =\n",
              "            await google.colab.kernel.invokeFunction('convertToInteractive',\n",
              "                                                     [key], {});\n",
              "          if (!dataTable) return;\n",
              "\n",
              "          const docLinkHtml = 'Like what you see? Visit the ' +\n",
              "            '<a target=\"_blank\" href=https://colab.research.google.com/notebooks/data_table.ipynb>data table notebook</a>'\n",
              "            + ' to learn more about interactive tables.';\n",
              "          element.innerHTML = '';\n",
              "          dataTable['output_type'] = 'display_data';\n",
              "          await google.colab.output.renderOutput(dataTable, element);\n",
              "          const docLink = document.createElement('div');\n",
              "          docLink.innerHTML = docLinkHtml;\n",
              "          element.appendChild(docLink);\n",
              "        }\n",
              "      </script>\n",
              "    </div>\n",
              "  </div>\n",
              "  "
            ]
          },
          "metadata": {},
          "execution_count": 6
        }
      ]
    },
    {
      "cell_type": "code",
      "source": [
        "tweets = df[['text_clean','airline_sentiment']]\n",
        "tweets"
      ],
      "metadata": {
        "colab": {
          "base_uri": "https://localhost:8080/",
          "height": 423
        },
        "id": "o1LY0mH5f7oz",
        "outputId": "b32c288c-0792-4461-d787-6b72a7f82604"
      },
      "execution_count": null,
      "outputs": [
        {
          "output_type": "execute_result",
          "data": {
            "text/plain": [
              "                                              text_clean airline_sentiment\n",
              "0                                              what said           neutral\n",
              "1      plus youve added commercials to the experience...          positive\n",
              "2      i didnt today must mean i need to take another...           neutral\n",
              "3      its really aggressive to blast obnoxious enter...          negative\n",
              "4                and its a really big bad thing about it          negative\n",
              "...                                                  ...               ...\n",
              "14635  thank you we got on a different flight to chicago          positive\n",
              "14636  leaving over minutes late flight no warnings o...          negative\n",
              "14637                  please bring american airlines to           neutral\n",
              "14638  you have my money you change my flight and don...          negative\n",
              "14639  we have ppl so we need know how many seats are...           neutral\n",
              "\n",
              "[14640 rows x 2 columns]"
            ],
            "text/html": [
              "\n",
              "  <div id=\"df-7d015729-a10a-486c-b61d-f15bb0d70b60\">\n",
              "    <div class=\"colab-df-container\">\n",
              "      <div>\n",
              "<style scoped>\n",
              "    .dataframe tbody tr th:only-of-type {\n",
              "        vertical-align: middle;\n",
              "    }\n",
              "\n",
              "    .dataframe tbody tr th {\n",
              "        vertical-align: top;\n",
              "    }\n",
              "\n",
              "    .dataframe thead th {\n",
              "        text-align: right;\n",
              "    }\n",
              "</style>\n",
              "<table border=\"1\" class=\"dataframe\">\n",
              "  <thead>\n",
              "    <tr style=\"text-align: right;\">\n",
              "      <th></th>\n",
              "      <th>text_clean</th>\n",
              "      <th>airline_sentiment</th>\n",
              "    </tr>\n",
              "  </thead>\n",
              "  <tbody>\n",
              "    <tr>\n",
              "      <th>0</th>\n",
              "      <td>what said</td>\n",
              "      <td>neutral</td>\n",
              "    </tr>\n",
              "    <tr>\n",
              "      <th>1</th>\n",
              "      <td>plus youve added commercials to the experience...</td>\n",
              "      <td>positive</td>\n",
              "    </tr>\n",
              "    <tr>\n",
              "      <th>2</th>\n",
              "      <td>i didnt today must mean i need to take another...</td>\n",
              "      <td>neutral</td>\n",
              "    </tr>\n",
              "    <tr>\n",
              "      <th>3</th>\n",
              "      <td>its really aggressive to blast obnoxious enter...</td>\n",
              "      <td>negative</td>\n",
              "    </tr>\n",
              "    <tr>\n",
              "      <th>4</th>\n",
              "      <td>and its a really big bad thing about it</td>\n",
              "      <td>negative</td>\n",
              "    </tr>\n",
              "    <tr>\n",
              "      <th>...</th>\n",
              "      <td>...</td>\n",
              "      <td>...</td>\n",
              "    </tr>\n",
              "    <tr>\n",
              "      <th>14635</th>\n",
              "      <td>thank you we got on a different flight to chicago</td>\n",
              "      <td>positive</td>\n",
              "    </tr>\n",
              "    <tr>\n",
              "      <th>14636</th>\n",
              "      <td>leaving over minutes late flight no warnings o...</td>\n",
              "      <td>negative</td>\n",
              "    </tr>\n",
              "    <tr>\n",
              "      <th>14637</th>\n",
              "      <td>please bring american airlines to</td>\n",
              "      <td>neutral</td>\n",
              "    </tr>\n",
              "    <tr>\n",
              "      <th>14638</th>\n",
              "      <td>you have my money you change my flight and don...</td>\n",
              "      <td>negative</td>\n",
              "    </tr>\n",
              "    <tr>\n",
              "      <th>14639</th>\n",
              "      <td>we have ppl so we need know how many seats are...</td>\n",
              "      <td>neutral</td>\n",
              "    </tr>\n",
              "  </tbody>\n",
              "</table>\n",
              "<p>14640 rows × 2 columns</p>\n",
              "</div>\n",
              "      <button class=\"colab-df-convert\" onclick=\"convertToInteractive('df-7d015729-a10a-486c-b61d-f15bb0d70b60')\"\n",
              "              title=\"Convert this dataframe to an interactive table.\"\n",
              "              style=\"display:none;\">\n",
              "        \n",
              "  <svg xmlns=\"http://www.w3.org/2000/svg\" height=\"24px\"viewBox=\"0 0 24 24\"\n",
              "       width=\"24px\">\n",
              "    <path d=\"M0 0h24v24H0V0z\" fill=\"none\"/>\n",
              "    <path d=\"M18.56 5.44l.94 2.06.94-2.06 2.06-.94-2.06-.94-.94-2.06-.94 2.06-2.06.94zm-11 1L8.5 8.5l.94-2.06 2.06-.94-2.06-.94L8.5 2.5l-.94 2.06-2.06.94zm10 10l.94 2.06.94-2.06 2.06-.94-2.06-.94-.94-2.06-.94 2.06-2.06.94z\"/><path d=\"M17.41 7.96l-1.37-1.37c-.4-.4-.92-.59-1.43-.59-.52 0-1.04.2-1.43.59L10.3 9.45l-7.72 7.72c-.78.78-.78 2.05 0 2.83L4 21.41c.39.39.9.59 1.41.59.51 0 1.02-.2 1.41-.59l7.78-7.78 2.81-2.81c.8-.78.8-2.07 0-2.86zM5.41 20L4 18.59l7.72-7.72 1.47 1.35L5.41 20z\"/>\n",
              "  </svg>\n",
              "      </button>\n",
              "      \n",
              "  <style>\n",
              "    .colab-df-container {\n",
              "      display:flex;\n",
              "      flex-wrap:wrap;\n",
              "      gap: 12px;\n",
              "    }\n",
              "\n",
              "    .colab-df-convert {\n",
              "      background-color: #E8F0FE;\n",
              "      border: none;\n",
              "      border-radius: 50%;\n",
              "      cursor: pointer;\n",
              "      display: none;\n",
              "      fill: #1967D2;\n",
              "      height: 32px;\n",
              "      padding: 0 0 0 0;\n",
              "      width: 32px;\n",
              "    }\n",
              "\n",
              "    .colab-df-convert:hover {\n",
              "      background-color: #E2EBFA;\n",
              "      box-shadow: 0px 1px 2px rgba(60, 64, 67, 0.3), 0px 1px 3px 1px rgba(60, 64, 67, 0.15);\n",
              "      fill: #174EA6;\n",
              "    }\n",
              "\n",
              "    [theme=dark] .colab-df-convert {\n",
              "      background-color: #3B4455;\n",
              "      fill: #D2E3FC;\n",
              "    }\n",
              "\n",
              "    [theme=dark] .colab-df-convert:hover {\n",
              "      background-color: #434B5C;\n",
              "      box-shadow: 0px 1px 3px 1px rgba(0, 0, 0, 0.15);\n",
              "      filter: drop-shadow(0px 1px 2px rgba(0, 0, 0, 0.3));\n",
              "      fill: #FFFFFF;\n",
              "    }\n",
              "  </style>\n",
              "\n",
              "      <script>\n",
              "        const buttonEl =\n",
              "          document.querySelector('#df-7d015729-a10a-486c-b61d-f15bb0d70b60 button.colab-df-convert');\n",
              "        buttonEl.style.display =\n",
              "          google.colab.kernel.accessAllowed ? 'block' : 'none';\n",
              "\n",
              "        async function convertToInteractive(key) {\n",
              "          const element = document.querySelector('#df-7d015729-a10a-486c-b61d-f15bb0d70b60');\n",
              "          const dataTable =\n",
              "            await google.colab.kernel.invokeFunction('convertToInteractive',\n",
              "                                                     [key], {});\n",
              "          if (!dataTable) return;\n",
              "\n",
              "          const docLinkHtml = 'Like what you see? Visit the ' +\n",
              "            '<a target=\"_blank\" href=https://colab.research.google.com/notebooks/data_table.ipynb>data table notebook</a>'\n",
              "            + ' to learn more about interactive tables.';\n",
              "          element.innerHTML = '';\n",
              "          dataTable['output_type'] = 'display_data';\n",
              "          await google.colab.output.renderOutput(dataTable, element);\n",
              "          const docLink = document.createElement('div');\n",
              "          docLink.innerHTML = docLinkHtml;\n",
              "          element.appendChild(docLink);\n",
              "        }\n",
              "      </script>\n",
              "    </div>\n",
              "  </div>\n",
              "  "
            ]
          },
          "metadata": {},
          "execution_count": 7
        }
      ]
    },
    {
      "cell_type": "markdown",
      "source": [
        "## Split Data "
      ],
      "metadata": {
        "id": "fP2kNU6xs4yL"
      }
    },
    {
      "cell_type": "code",
      "source": [
        "import numpy as np\n",
        "seed = 43\n",
        "df_train, df_val, df_test = np.split(tweets.sample(frac=1, random_state=seed), [int(.8*len(tweets)), int(.9*len(tweets))])"
      ],
      "metadata": {
        "id": "lT3xQ21ggGi4"
      },
      "execution_count": null,
      "outputs": []
    },
    {
      "cell_type": "code",
      "source": [
        "df_train.info()"
      ],
      "metadata": {
        "colab": {
          "base_uri": "https://localhost:8080/"
        },
        "id": "Y_V53vfagTGt",
        "outputId": "1638c3c9-0a8e-444a-a43a-94bab551e67c"
      },
      "execution_count": null,
      "outputs": [
        {
          "output_type": "stream",
          "name": "stdout",
          "text": [
            "<class 'pandas.core.frame.DataFrame'>\n",
            "Int64Index: 11712 entries, 5747 to 10724\n",
            "Data columns (total 2 columns):\n",
            " #   Column             Non-Null Count  Dtype \n",
            "---  ------             --------------  ----- \n",
            " 0   text_clean         11712 non-null  object\n",
            " 1   airline_sentiment  11712 non-null  object\n",
            "dtypes: object(2)\n",
            "memory usage: 274.5+ KB\n"
          ]
        }
      ]
    },
    {
      "cell_type": "code",
      "source": [
        "df_val.info()"
      ],
      "metadata": {
        "colab": {
          "base_uri": "https://localhost:8080/"
        },
        "id": "XjrrlR9YgbtO",
        "outputId": "0f996118-5b69-406c-b26b-1de5e8e74617"
      },
      "execution_count": null,
      "outputs": [
        {
          "output_type": "stream",
          "name": "stdout",
          "text": [
            "<class 'pandas.core.frame.DataFrame'>\n",
            "Int64Index: 1464 entries, 2676 to 9289\n",
            "Data columns (total 2 columns):\n",
            " #   Column             Non-Null Count  Dtype \n",
            "---  ------             --------------  ----- \n",
            " 0   text_clean         1464 non-null   object\n",
            " 1   airline_sentiment  1464 non-null   object\n",
            "dtypes: object(2)\n",
            "memory usage: 34.3+ KB\n"
          ]
        }
      ]
    },
    {
      "cell_type": "code",
      "source": [
        "df_test.info()"
      ],
      "metadata": {
        "colab": {
          "base_uri": "https://localhost:8080/"
        },
        "id": "EMth0dNDgeqK",
        "outputId": "3c776ea6-3ab8-41af-aeb8-14004503ef83"
      },
      "execution_count": null,
      "outputs": [
        {
          "output_type": "stream",
          "name": "stdout",
          "text": [
            "<class 'pandas.core.frame.DataFrame'>\n",
            "Int64Index: 1464 entries, 14343 to 14148\n",
            "Data columns (total 2 columns):\n",
            " #   Column             Non-Null Count  Dtype \n",
            "---  ------             --------------  ----- \n",
            " 0   text_clean         1464 non-null   object\n",
            " 1   airline_sentiment  1464 non-null   object\n",
            "dtypes: object(2)\n",
            "memory usage: 34.3+ KB\n"
          ]
        }
      ]
    },
    {
      "cell_type": "code",
      "source": [
        "class Vocabulary:\n",
        "  '''\n",
        "  __init__ method is called by default as soon as an object of this \n",
        "  class is initiated\n",
        "  we use this method to initiate our vocab dictionaries\n",
        "  '''\n",
        "  def __init__(self, freq_threshold, max_size):\n",
        "    '''\n",
        "    freq_threshold : the minimum times a word must occur in corpus to \n",
        "    be treated in vocab\n",
        "    max_size : max source vocab size. Eg. if set to 10,000, we pick \n",
        "    the top 10,000 most frequent words and discard others\n",
        "    '''\n",
        "    #initiate the index to token dict\n",
        "    ## <PAD> -> padding, used for padding the shorter sentences in a batch to match the length of longest sentence in the batch\n",
        "    ## <UNK> -> words which are not found in the vocab are replace by this token\n",
        "\n",
        "    self.itos = {0: '<PAD>', 1: '<UNK>'}\n",
        "    \n",
        "    #initiate the token to index dict\n",
        "    self.stoi = {k:j for j,k in self.itos.items()} \n",
        "    self.freq_threshold = freq_threshold\n",
        "    self.max_size = max_size\n",
        "\n",
        "  '''\n",
        "  __len__ is used by dataloader later to create batches\n",
        "  '''\n",
        "  def __len__(self):\n",
        "    return len(self.itos)\n",
        "\n",
        "  '''\n",
        "  a simple tokenizer to split on space and converts the sentence to list \n",
        "  of words\n",
        "  '''\n",
        "\n",
        "  @staticmethod\n",
        "  def tokenizer(text):\n",
        "    return [tok.lower().strip() for tok in text.split(' ')]\n",
        "\n",
        "  '''\n",
        "  build the vocab: create a dictionary mapping of index to string (itos) \n",
        "  and string to index (stoi)\n",
        "  output ex. for stoi -> {'the':5, 'a':6, 'an':7}\n",
        "  '''\n",
        "\n",
        "  def build_vocabulary(self, sentence_list):\n",
        "    #calculate the frequencies of each word first to remove the words with freq < freq_threshold\n",
        "    frequencies = {} #init the freq dict\n",
        "    idx = 4 #index from which we want our dict to start. We already used 4 indexes for pad, start, end, unk\n",
        "\n",
        "    #calculate freq of words\n",
        "    for sentence in sentence_list:\n",
        "      for word in self.tokenizer(sentence):\n",
        "        if word not in frequencies.keys():\n",
        "          frequencies[word]=1\n",
        "        else:\n",
        "          frequencies[word]+=1\n",
        "\n",
        "    #limit vocab by removing low freq words\n",
        "    frequencies = {k:v for k,v in frequencies.items() if v>self.freq_threshold} \n",
        "\n",
        "    #limit vocab to the max_size specified\n",
        "    frequencies = dict(sorted(frequencies.items(), key = lambda x: - x[1])[:self.max_size-idx]) # idx =4 for pad, start, end , unk\n",
        "    \n",
        "    #create vocab\n",
        "    for word in frequencies.keys():\n",
        "      self.stoi[word] = idx\n",
        "      self.itos[idx] = word\n",
        "      idx+=1\n",
        "\n",
        "  '''\n",
        "  convert the list of words to a list of corresponding indexes\n",
        "  '''\n",
        "  def numericalize(self, text):\n",
        "    #tokenize text\n",
        "    tokenized_text = self.tokenizer(text)\n",
        "    numericalized_text = []\n",
        "\n",
        "    for token in tokenized_text:\n",
        "      if token in self.stoi.keys():\n",
        "        numericalized_text.append(self.stoi[token])\n",
        "      else: #out-of-vocab words are represented by UNK token index\n",
        "        numericalized_text.append(self.stoi['<UNK>'])\n",
        "\n",
        "    return numericalized_text"
      ],
      "metadata": {
        "id": "djwiHfqPgkAU"
      },
      "execution_count": null,
      "outputs": []
    },
    {
      "cell_type": "markdown",
      "source": [
        "## Membuat DataLoader"
      ],
      "metadata": {
        "id": "2TTJX0DmtENN"
      }
    },
    {
      "cell_type": "code",
      "source": [
        "from torch.utils.data import Dataset, DataLoader\n",
        "from torch.nn.utils.rnn import pad_sequence"
      ],
      "metadata": {
        "id": "evnk6Ueghivj"
      },
      "execution_count": null,
      "outputs": []
    },
    {
      "cell_type": "code",
      "source": [
        "class TweetSentimentDataset(Dataset):\n",
        "  # Static constant variable\n",
        "  LABEL2INDEX = {'positive': 0, 'neutral': 1, 'negative': 2}\n",
        "  INDEX2LABEL = {0: 'positive', 1: 'neutral', 2: 'negative'}\n",
        "  NUM_LABELS = 3\n",
        "\n",
        "  def load_dataset(self, df): \n",
        "    df.columns = ['text_clean','airline_sentiment']\n",
        "\n",
        "    #print(df)\n",
        "    df['airline_sentiment'] = df['airline_sentiment'].apply(lambda lab: self.LABEL2INDEX[lab])\n",
        "\n",
        "    return df\n",
        "\n",
        "  def __init__(self, df, freq_threshold = 3, vocab_max_size = 10000, *args, **kwargs):\n",
        "    self.data = self.load_dataset(df)\n",
        "    self.source_texts = self.data['text_clean'].tolist()\n",
        "    self.freq_threshold = freq_threshold\n",
        "    self.vocab_max_size = vocab_max_size\n",
        "    self.vocab = Vocabulary(freq_threshold, vocab_max_size)\n",
        "    self.vocab.build_vocabulary(self.source_texts)\n",
        "\n",
        "  def __getitem__(self, index):\n",
        "    data = self.data.iloc[index,:]\n",
        "    text, sentiment = data['text_clean'], data['airline_sentiment']\n",
        "    token_ids = self.vocab.numericalize(text)\n",
        "    return torch.tensor(token_ids), torch.tensor(sentiment)\n",
        "\n",
        "  def __len__(self):\n",
        "    return len(self.data)"
      ],
      "metadata": {
        "id": "dXS60r9Ch7Nm"
      },
      "execution_count": null,
      "outputs": []
    },
    {
      "cell_type": "code",
      "source": [
        "class MyCollate:\n",
        "  def __init__(self, pad_idx):\n",
        "    self.pad_idx = pad_idx\n",
        "  def __call__(self, batch):\n",
        "    input_tensors = []\n",
        "    labels = []\n",
        "    lengths = []\n",
        "\n",
        "    for x, y in batch:\n",
        "      input_tensors.append(x)\n",
        "      labels.append(y)\n",
        "      lengths.append(x.shape[0]) #Assume shape is (T, *)\n",
        "\n",
        "    longest = max(lengths)\n",
        "    \n",
        "    if len(input_tensors[0].shape) == 1:\n",
        "      x_padded = torch.nn.utils.rnn.pad_sequence(input_tensors, batch_first=True, padding_value = self.pad_idx)\n",
        "    \n",
        "    else:\n",
        "      raise Exception('Current implementation only supports (T) shaped data')\n",
        "      \n",
        "    y_batched = torch.as_tensor(labels, dtype=torch.long)\n",
        "    return x_padded, y_batched"
      ],
      "metadata": {
        "id": "LWxDf-hSiRBO"
      },
      "execution_count": null,
      "outputs": []
    },
    {
      "cell_type": "code",
      "source": [
        "# create Tensor datasets\n",
        "train_data = TweetSentimentDataset(df_train)\n",
        "valid_data = TweetSentimentDataset(df_val)\n",
        "test_data = TweetSentimentDataset(df_test)"
      ],
      "metadata": {
        "id": "bllbAW-jis1p"
      },
      "execution_count": null,
      "outputs": []
    },
    {
      "cell_type": "code",
      "source": [
        "# setting seed\n",
        "def seed_all(seed):\n",
        "    if not seed:\n",
        "        seed = 43\n",
        "\n",
        "    print(\"[ Using Seed : \", seed, \" ]\")\n",
        "\n",
        "    torch.manual_seed(seed)\n",
        "    torch.cuda.manual_seed_all(seed)\n",
        "    torch.cuda.manual_seed(seed)\n",
        "    numpy.random.seed(seed)\n",
        "    random.seed(seed)\n",
        "    torch.backends.cudnn.deterministic = True\n",
        "    torch.backends.cudnn.benchmark = False"
      ],
      "metadata": {
        "id": "Os4QINAyKrW3"
      },
      "execution_count": null,
      "outputs": []
    },
    {
      "cell_type": "code",
      "source": [
        "# setting seed \n",
        "import numpy\n",
        "import random\n",
        "import torch\n",
        "\n",
        "def seed_worker(worker_id):\n",
        "    worker_seed = torch.initial_seed() % 2**32\n",
        "    numpy.random.seed(worker_seed)\n",
        "    random.seed(worker_seed)\n",
        "\n",
        "seed_all(seed)\n",
        "g = torch.Generator()\n",
        "g.manual_seed(43)\n",
        "num_workers = 2"
      ],
      "metadata": {
        "id": "JSzbA17ojd0b",
        "colab": {
          "base_uri": "https://localhost:8080/"
        },
        "outputId": "5347a71a-9191-4a32-ffaa-0f7de0364f4f"
      },
      "execution_count": null,
      "outputs": [
        {
          "output_type": "stream",
          "name": "stdout",
          "text": [
            "[ Using Seed :  43  ]\n"
          ]
        }
      ]
    },
    {
      "cell_type": "code",
      "source": [
        "# dataloaders\n",
        "batch_size = 5\n",
        "\n",
        "# make sure to SHUFFLE your data\n",
        "pad_idx = 0\n",
        "\n",
        "train_loader = DataLoader(train_data, shuffle=True, batch_size=batch_size, \n",
        "collate_fn = MyCollate(pad_idx=pad_idx), worker_init_fn=seed_worker, \n",
        "generator=g)\n",
        "\n",
        "valid_loader = DataLoader(valid_data, shuffle=True, batch_size=batch_size, \n",
        "collate_fn = MyCollate(pad_idx=pad_idx), worker_init_fn=seed_worker, \n",
        "generator=g)\n",
        "\n",
        "test_loader = DataLoader(test_data, shuffle=True, batch_size=batch_size, \n",
        "collate_fn = MyCollate(pad_idx=pad_idx), worker_init_fn=seed_worker, \n",
        "generator=g)"
      ],
      "metadata": {
        "id": "MWx7JHf3i-ej"
      },
      "execution_count": null,
      "outputs": []
    },
    {
      "cell_type": "code",
      "source": [
        "import torch\n",
        "\n",
        "is_cuda = torch.cuda.is_available()\n",
        "\n",
        "# If we have a GPU available, we'll set our device to GPU. We'll use this device variable later in our code.\n",
        "\n",
        "if is_cuda:\n",
        "  device = torch.device(\"cuda\")\n",
        "  print(\"GPU is available\")\n",
        "else:\n",
        "  device = torch.device(\"cpu\")\n",
        "  print(\"GPU not available, CPU used\")"
      ],
      "metadata": {
        "colab": {
          "base_uri": "https://localhost:8080/"
        },
        "id": "gkbRUrLzjrBA",
        "outputId": "d32a4880-2ac7-4158-bd86-e84b6929c766"
      },
      "execution_count": null,
      "outputs": [
        {
          "output_type": "stream",
          "name": "stdout",
          "text": [
            "GPU not available, CPU used\n"
          ]
        }
      ]
    },
    {
      "cell_type": "markdown",
      "source": [
        "## Mendefinisikan Model RNN"
      ],
      "metadata": {
        "id": "pe-kKm6IuPKY"
      }
    },
    {
      "cell_type": "code",
      "source": [
        "import torch.nn as nn\n",
        "import torch.nn.functional as F\n",
        "\n",
        "class SentimentRNN(nn.Module):\n",
        "  def __init__(self,no_layers,vocab_size,hidden_dim,embedding_dim,output_dim,drop_prob=0.5):\n",
        "    super(SentimentRNN,self).__init__()\n",
        "    self.output_dim = output_dim\n",
        "    self.hidden_dim = hidden_dim\n",
        "    self.no_layers = no_layers\n",
        "    self.vocab_size = vocab_size\n",
        "    self.embedding = nn.Embedding(vocab_size, embedding_dim)\n",
        "    self.rnn = nn.RNN(input_size=embedding_dim,hidden_size=self.hidden_dim, num_layers=no_layers, batch_first=True)\n",
        "    self.dropout = nn.Dropout(0.3)\n",
        "    self.fc = nn.Linear(self.hidden_dim, output_dim)\n",
        "    self.softmax = nn.LogSoftmax(dim=1)\n",
        "\n",
        "  def forward(self,x):\n",
        "    batch_size = x.size(0)\n",
        "    embeds = self.embedding(x)\n",
        "    rnn_out, hidden = self.rnn(embeds)\n",
        "    out = self.dropout(hidden.squeeze(0))\n",
        "    out = self.fc(out)\n",
        "    output = self.softmax(out)\n",
        "    return output\n"
      ],
      "metadata": {
        "id": "jQH9CNNsj5Ei"
      },
      "execution_count": null,
      "outputs": []
    },
    {
      "cell_type": "code",
      "source": [
        "no_layers = 1\n",
        "vocab_size = len(train_data.vocab) + 2 #extra 2 for padding and unknown\n",
        "embedding_dim = 64\n",
        "output_dim = 3\n",
        "hidden_dim = 256\n",
        "\n",
        "model = SentimentRNN(no_layers,vocab_size,hidden_dim,embedding_dim,output_dim,drop_prob=0.5)\n",
        "\n",
        "#moving to gpu\n",
        "model.to(device)"
      ],
      "metadata": {
        "colab": {
          "base_uri": "https://localhost:8080/"
        },
        "id": "RW2bT77qkbc4",
        "outputId": "fcd48bb5-0c9b-4e90-b387-d25857e0fac7"
      },
      "execution_count": null,
      "outputs": [
        {
          "output_type": "execute_result",
          "data": {
            "text/plain": [
              "SentimentRNN(\n",
              "  (embedding): Embedding(2956, 64)\n",
              "  (rnn): RNN(64, 256, batch_first=True)\n",
              "  (dropout): Dropout(p=0.3, inplace=False)\n",
              "  (fc): Linear(in_features=256, out_features=3, bias=True)\n",
              "  (softmax): LogSoftmax(dim=1)\n",
              ")"
            ]
          },
          "metadata": {},
          "execution_count": 22
        }
      ]
    },
    {
      "cell_type": "code",
      "source": [
        "import torch.optim as optim\n",
        "criterion = nn.CrossEntropyLoss()\n",
        "optimizer = optim.SGD(model.parameters(), lr=0.001, momentum=0.9)"
      ],
      "metadata": {
        "id": "9e3lkxJqlObS"
      },
      "execution_count": null,
      "outputs": []
    },
    {
      "cell_type": "markdown",
      "source": [
        "## Menghitung Akurasi Validasi "
      ],
      "metadata": {
        "id": "66AfNOteuquQ"
      }
    },
    {
      "cell_type": "code",
      "source": [
        "import time\n",
        "start_time = time.time()\n",
        "epochs = 10\n",
        "val_accuracies = []"
      ],
      "metadata": {
        "id": "IAd6xvmetRoe"
      },
      "execution_count": null,
      "outputs": []
    },
    {
      "cell_type": "code",
      "source": [
        "def compute_accuracy(model, data_loader, device):\n",
        "  with torch.no_grad():\n",
        "    correct_pred, num_examples = 0, 0\n",
        "\n",
        "    for i, (features, targets) in enumerate(data_loader):\n",
        "      features = features.to(device)\n",
        "      targets = targets.to(device)\n",
        "\n",
        "      logits = model(features)\n",
        "      _, predicted_labels = torch.max(logits, 1)\n",
        "      num_examples += targets.size(0)\n",
        "      correct_pred += (predicted_labels == targets).sum()\n",
        "\n",
        "    return correct_pred.float()/num_examples * 100\n",
        "\n",
        "with torch.set_grad_enabled(False):\n",
        "  val_accuracies.append(compute_accuracy(model, valid_loader, device))\n",
        "  print(f'val accuracy:'\n",
        "  f'{val_accuracies[-1]:.2f}%')"
      ],
      "metadata": {
        "colab": {
          "base_uri": "https://localhost:8080/"
        },
        "id": "B7O9poTPpPlR",
        "outputId": "015e5ebd-afd9-4331-f8c4-a0f8e80da9d5"
      },
      "execution_count": null,
      "outputs": [
        {
          "output_type": "stream",
          "name": "stdout",
          "text": [
            "val accuracy:25.48%\n"
          ]
        }
      ]
    },
    {
      "cell_type": "code",
      "source": [
        "temp_akurasi = 0.0\n",
        "\n",
        "for epoch in range(epochs):\n",
        "  running_loss = 0.0\n",
        "  model.train()\n",
        "\n",
        "  for i, data in enumerate(train_loader, 0):\n",
        "    inputs, labels = data[0].to(device), data[1].to(device)\n",
        "    model.zero_grad()\n",
        "    logits = model(inputs)\n",
        "    loss = criterion(logits, labels)\n",
        "    optimizer.zero_grad()\n",
        "    loss.backward()\n",
        "    optimizer.step()\n",
        "    running_loss += loss.item()\n",
        "\n",
        "    if i % 500 == 499: # print every 500 mini-batches\n",
        "      print(f'[{epoch + 1}, {i + 1:5d}] loss: {running_loss / 500:.3f}')\n",
        "      running_loss = 0.0\n",
        "  \n",
        "  with torch.set_grad_enabled(False):\n",
        "    val_accuracies.append(compute_accuracy(model, valid_loader, device))\n",
        "  \n",
        "    print(f'val accuracy:'\n",
        "    f'{val_accuracies[-1]:.2f}%')\n",
        "    \n",
        "  print(f'time elapsed: {(time.time() - start_time)/60:.2f} min')\n",
        "\n",
        "  if(compute_accuracy(model, valid_loader, device) > temp_akurasi):\n",
        "    model_terbaik = model\n",
        "  \n",
        "  torch.save(model.state_dict(),'model_best_accuracy')\n"
      ],
      "metadata": {
        "colab": {
          "base_uri": "https://localhost:8080/"
        },
        "id": "YJCBXlk0kkXk",
        "outputId": "bdddb7a9-b927-43c9-a0fa-5fd78c5f4d9a"
      },
      "execution_count": null,
      "outputs": [
        {
          "output_type": "stream",
          "name": "stdout",
          "text": [
            "[1,   500] loss: 0.939\n",
            "[1,  1000] loss: 0.879\n",
            "[1,  1500] loss: 0.856\n",
            "[1,  2000] loss: 0.861\n",
            "val accuracy:58.67%\n",
            "time elapsed: 1.64 min\n",
            "[2,   500] loss: 0.841\n",
            "[2,  1000] loss: 0.867\n",
            "[2,  1500] loss: 0.867\n",
            "[2,  2000] loss: 0.891\n",
            "val accuracy:60.93%\n",
            "time elapsed: 2.06 min\n",
            "[3,   500] loss: 0.824\n",
            "[3,  1000] loss: 0.893\n",
            "[3,  1500] loss: 0.882\n",
            "[3,  2000] loss: 0.846\n",
            "val accuracy:61.89%\n",
            "time elapsed: 2.47 min\n",
            "[4,   500] loss: 0.878\n",
            "[4,  1000] loss: 0.865\n",
            "[4,  1500] loss: 0.894\n",
            "[4,  2000] loss: 0.878\n",
            "val accuracy:61.34%\n",
            "time elapsed: 2.87 min\n",
            "[5,   500] loss: 0.855\n",
            "[5,  1000] loss: 0.845\n",
            "[5,  1500] loss: 0.843\n",
            "[5,  2000] loss: 0.849\n",
            "val accuracy:55.74%\n",
            "time elapsed: 3.26 min\n",
            "[6,   500] loss: 0.833\n",
            "[6,  1000] loss: 0.826\n",
            "[6,  1500] loss: 0.851\n",
            "[6,  2000] loss: 0.836\n",
            "val accuracy:60.86%\n",
            "time elapsed: 3.67 min\n",
            "[7,   500] loss: 0.839\n",
            "[7,  1000] loss: 0.842\n",
            "[7,  1500] loss: 0.835\n",
            "[7,  2000] loss: 0.833\n",
            "val accuracy:61.61%\n",
            "time elapsed: 4.06 min\n",
            "[8,   500] loss: 0.837\n",
            "[8,  1000] loss: 0.834\n",
            "[8,  1500] loss: 0.842\n",
            "[8,  2000] loss: 0.832\n",
            "val accuracy:61.41%\n",
            "time elapsed: 4.47 min\n",
            "[9,   500] loss: 0.841\n",
            "[9,  1000] loss: 0.826\n",
            "[9,  1500] loss: 0.814\n",
            "[9,  2000] loss: 0.837\n",
            "val accuracy:56.28%\n",
            "time elapsed: 4.85 min\n",
            "[10,   500] loss: 0.873\n",
            "[10,  1000] loss: 0.853\n",
            "[10,  1500] loss: 0.831\n",
            "[10,  2000] loss: 0.855\n",
            "val accuracy:58.61%\n",
            "time elapsed: 5.37 min\n"
          ]
        }
      ]
    },
    {
      "cell_type": "code",
      "source": [
        "from matplotlib import pyplot as plt\n",
        "plt.figure()\n",
        "plt.xlabel(\"Epoch\")\n",
        "plt.plot(range(1, len(val_accuracies) + 1), val_accuracies)\n",
        "plt.title(\"Accuracies on Validation Set\")\n",
        "plt.show()"
      ],
      "metadata": {
        "colab": {
          "base_uri": "https://localhost:8080/",
          "height": 472
        },
        "id": "Wh6zaiXOo-pa",
        "outputId": "20a5f5dc-9781-4e62-a24d-3184c5b65e6b"
      },
      "execution_count": null,
      "outputs": [
        {
          "output_type": "display_data",
          "data": {
            "text/plain": [
              "<Figure size 640x480 with 1 Axes>"
            ],
            "image/png": "[encoded data removed]"
          },
          "metadata": {}
        }
      ]
    },
    {
      "cell_type": "markdown",
      "source": [
        "## Akurasi Testing"
      ],
      "metadata": {
        "id": "gsHck8NiAKjk"
      }
    },
    {
      "cell_type": "code",
      "source": [
        "compute_accuracy(model_terbaik, test_loader, device)"
      ],
      "metadata": {
        "id": "FWKBZbUXsWRf",
        "colab": {
          "base_uri": "https://localhost:8080/"
        },
        "outputId": "e26219eb-acf3-42e0-9f03-c15bfa5568d6"
      },
      "execution_count": null,
      "outputs": [
        {
          "output_type": "execute_result",
          "data": {
            "text/plain": [
              "tensor(61.7486)"
            ]
          },
          "metadata": {},
          "execution_count": 32
        }
      ]
    },
    {
      "cell_type": "markdown",
      "source": [
        "## Graph"
      ],
      "metadata": {
        "id": "0uDHuUaHy5ES"
      }
    },
    {
      "cell_type": "code",
      "source": [
        "!pip install torchviz"
      ],
      "metadata": {
        "colab": {
          "base_uri": "https://localhost:8080/"
        },
        "id": "b-Cb6yjTzLFj",
        "outputId": "d013d2ad-d952-4037-b7c5-75ac8ea1bf79"
      },
      "execution_count": null,
      "outputs": [
        {
          "output_type": "stream",
          "name": "stdout",
          "text": [
            "Looking in indexes: https://pypi.org/simple, https://us-python.pkg.dev/colab-wheels/public/simple/\n",
            "Collecting torchviz\n",
            "  Downloading torchviz-0.0.2.tar.gz (4.9 kB)\n",
            "  Preparing metadata (setup.py) ... \u001b[?25l\u001b[?25hdone\n",
            "Requirement already satisfied: torch in /usr/local/lib/python3.10/dist-packages (from torchviz) (2.0.1+cu118)\n",
            "Requirement already satisfied: graphviz in /usr/local/lib/python3.10/dist-packages (from torchviz) (0.20.1)\n",
            "Requirement already satisfied: filelock in /usr/local/lib/python3.10/dist-packages (from torch->torchviz) (3.12.0)\n",
            "Requirement already satisfied: typing-extensions in /usr/local/lib/python3.10/dist-packages (from torch->torchviz) (4.6.3)\n",
            "Requirement already satisfied: sympy in /usr/local/lib/python3.10/dist-packages (from torch->torchviz) (1.11.1)\n",
            "Requirement already satisfied: networkx in /usr/local/lib/python3.10/dist-packages (from torch->torchviz) (3.1)\n",
            "Requirement already satisfied: jinja2 in /usr/local/lib/python3.10/dist-packages (from torch->torchviz) (3.1.2)\n",
            "Requirement already satisfied: triton==2.0.0 in /usr/local/lib/python3.10/dist-packages (from torch->torchviz) (2.0.0)\n",
            "Requirement already satisfied: cmake in /usr/local/lib/python3.10/dist-packages (from triton==2.0.0->torch->torchviz) (3.25.2)\n",
            "Requirement already satisfied: lit in /usr/local/lib/python3.10/dist-packages (from triton==2.0.0->torch->torchviz) (16.0.5)\n",
            "Requirement already satisfied: MarkupSafe>=2.0 in /usr/local/lib/python3.10/dist-packages (from jinja2->torch->torchviz) (2.1.2)\n",
            "Requirement already satisfied: mpmath>=0.19 in /usr/local/lib/python3.10/dist-packages (from sympy->torch->torchviz) (1.3.0)\n",
            "Building wheels for collected packages: torchviz\n",
            "  Building wheel for torchviz (setup.py) ... \u001b[?25l\u001b[?25hdone\n",
            "  Created wheel for torchviz: filename=torchviz-0.0.2-py3-none-any.whl size=4131 sha256=f22f4f476f9bec21926ec905ef3e99f49e001c53bebc25004fed6b1ed30dd539\n",
            "  Stored in directory: /root/.cache/pip/wheels/4c/97/88/a02973217949e0db0c9f4346d154085f4725f99c4f15a87094\n",
            "Successfully built torchviz\n",
            "Installing collected packages: torchviz\n",
            "Successfully installed torchviz-0.0.2\n"
          ]
        }
      ]
    },
    {
      "cell_type": "code",
      "source": [
        "from torchviz import make_dot\n",
        "make_dot(logits.mean(), params=dict(list(model.named_parameters()))).render(\"rnn_torchviz\", format=\"png\")"
      ],
      "metadata": {
        "colab": {
          "base_uri": "https://localhost:8080/",
          "height": 36
        },
        "id": "_YtLMyxzy62O",
        "outputId": "24ca2e30-c539-4166-d97d-e388064a4c6c"
      },
      "execution_count": null,
      "outputs": [
        {
          "output_type": "execute_result",
          "data": {
            "text/plain": [
              "'rnn_torchviz.png'"
            ],
            "application/vnd.google.colaboratory.intrinsic+json": {
              "type": "string"
            }
          },
          "metadata": {},
          "execution_count": 40
        }
      ]
    }
  ]
}