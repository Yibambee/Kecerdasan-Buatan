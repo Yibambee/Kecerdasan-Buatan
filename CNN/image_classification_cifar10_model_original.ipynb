{
  "cells": [
    {
      "cell_type": "markdown",
      "source": [
        "# Praktikum AI - CNN \n",
        "## Komang Niko Romano Prodi \n",
        "## 222011356 / 3SD1 / 06"
      ],
      "metadata": {
        "id": "BmScXEPe_2Ax"
      }
    },
    {
      "cell_type": "code",
      "execution_count": null,
      "metadata": {
        "id": "j6kxIobgmaDp"
      },
      "outputs": [],
      "source": [
        "# For tips on running notebooks in Google Colab, see\n",
        "# https://pytorch.org/tutorials/beginner/colab\n",
        "%matplotlib inline"
      ]
    },
    {
      "cell_type": "markdown",
      "source": [
        "## Load and normalize CIFAR10"
      ],
      "metadata": {
        "id": "tCGz1f9jA3U2"
      }
    },
    {
      "cell_type": "code",
      "execution_count": null,
      "metadata": {
        "id": "JT_jNNzYmaDw"
      },
      "outputs": [],
      "source": [
        "import torch\n",
        "import torchvision\n",
        "import torchvision.transforms as transforms"
      ]
    },
    {
      "cell_type": "markdown",
      "source": [
        "## Lakukan Split Data dan Load Data"
      ],
      "metadata": {
        "id": "A-n6CF4qA9sw"
      }
    },
    {
      "cell_type": "code",
      "execution_count": null,
      "metadata": {
        "id": "DyQ6sXQWmaDx",
        "colab": {
          "base_uri": "https://localhost:8080/"
        },
        "outputId": "16dce48c-6d1a-4ae0-cecc-3f90584bd3eb"
      },
      "outputs": [
        {
          "output_type": "stream",
          "name": "stdout",
          "text": [
            "Files already downloaded and verified\n",
            "Files already downloaded and verified\n"
          ]
        }
      ],
      "source": [
        "transform = transforms.Compose(\n",
        "    [transforms.ToTensor(),\n",
        "     transforms.Normalize((0.5, 0.5, 0.5), (0.5, 0.5, 0.5))])\n",
        "\n",
        "batch_size = 4\n",
        "\n",
        "trainset = torchvision.datasets.CIFAR10(root='./data', train=True,\n",
        "                                        download=True, transform=transform)\n",
        "trainloader = torch.utils.data.DataLoader(trainset, batch_size=batch_size, \n",
        "                                          shuffle=True, num_workers=2)\n",
        "\n",
        "testset = torchvision.datasets.CIFAR10(root='./data', train=False,\n",
        "                                       download=True, transform=transform)\n",
        "\n",
        "testloader = torch.utils.data.DataLoader(testset, batch_size=batch_size,\n",
        "                                         shuffle=False, num_workers=2)\n",
        "\n",
        "classes = ('plane', 'car', 'bird', 'cat',\n",
        "           'deer', 'dog', 'frog', 'horse', 'ship', 'truck')"
      ]
    },
    {
      "cell_type": "code",
      "source": [
        "# jumlah trainset sebelum split data \n",
        "print(len(trainset))"
      ],
      "metadata": {
        "id": "X2Tj1ACb3vYZ",
        "colab": {
          "base_uri": "https://localhost:8080/"
        },
        "outputId": "eb6dcf95-36ef-4ba1-db86-4ab4209fa491"
      },
      "execution_count": null,
      "outputs": [
        {
          "output_type": "stream",
          "name": "stdout",
          "text": [
            "50000\n"
          ]
        }
      ]
    },
    {
      "cell_type": "code",
      "source": [
        "# setting the seeds\n",
        "import numpy as np\n",
        "np.random.seed(43)\n",
        "torch.manual_seed(43)"
      ],
      "metadata": {
        "id": "hLTMr1xWxyYg",
        "colab": {
          "base_uri": "https://localhost:8080/"
        },
        "outputId": "fec468fd-6a98-4ad9-99cc-ca2daee0a7a2"
      },
      "execution_count": null,
      "outputs": [
        {
          "output_type": "execute_result",
          "data": {
            "text/plain": [
              "<torch._C.Generator at 0x7ff308eacd70>"
            ]
          },
          "metadata": {},
          "execution_count": 16
        }
      ]
    },
    {
      "cell_type": "code",
      "source": [
        "# setting seed\n",
        "def seed_all(seed):\n",
        "    if not seed:\n",
        "        seed = 10\n",
        "\n",
        "    print(\"[ Using Seed : \", seed, \" ]\")\n",
        "\n",
        "    torch.manual_seed(seed)\n",
        "    torch.cuda.manual_seed_all(seed)\n",
        "    torch.cuda.manual_seed(seed)\n",
        "    numpy.random.seed(seed)\n",
        "    random.seed(seed)\n",
        "    torch.backends.cudnn.deterministic = True\n",
        "    torch.backends.cudnn.benchmark = False\n"
      ],
      "metadata": {
        "id": "tWJAHXBJyWLn"
      },
      "execution_count": null,
      "outputs": []
    },
    {
      "cell_type": "code",
      "source": [
        "# setting seed \n",
        "import numpy\n",
        "import random\n",
        "\n",
        "def seed_worker(worker_id):\n",
        "    worker_seed = torch.initial_seed() % 2**32\n",
        "    numpy.random.seed(worker_seed)\n",
        "    random.seed(worker_seed)\n",
        "\n",
        "g = torch.Generator()\n",
        "g.manual_seed(43)\n",
        "num_workers = 2\n"
      ],
      "metadata": {
        "id": "VEhJNEQm6cyx"
      },
      "execution_count": null,
      "outputs": []
    },
    {
      "cell_type": "code",
      "source": [
        "# split data trainset sebelumnya menjadi trainset (90%) dan valset (10%)\n",
        "trainset, valset = torch.utils.data.random_split(trainset, [0.9, 0.1])\n",
        "print(len(trainset))\n",
        "print(len(valset))"
      ],
      "metadata": {
        "id": "gBjTjHjt2xoV",
        "colab": {
          "base_uri": "https://localhost:8080/"
        },
        "outputId": "a28f44c2-61c0-409d-b5f9-174b3436dc64"
      },
      "execution_count": null,
      "outputs": [
        {
          "output_type": "stream",
          "name": "stdout",
          "text": [
            "45000\n",
            "5000\n"
          ]
        }
      ]
    },
    {
      "cell_type": "code",
      "source": [
        "# Dataloader trainset, testset, dan valset\n",
        "\n",
        "# trainloader\n",
        "trainloader = torch.utils.data.DataLoader(\n",
        "    trainset,\n",
        "    batch_size=batch_size,\n",
        "    num_workers=num_workers,\n",
        "    worker_init_fn=seed_worker,\n",
        "    generator=g,\n",
        ")\n",
        "\n",
        "# testloader\n",
        "testloader = torch.utils.data.DataLoader(\n",
        "    testset,\n",
        "    batch_size=batch_size,\n",
        "    num_workers=num_workers,\n",
        "    worker_init_fn=seed_worker,\n",
        "    generator=g,\n",
        ")\n",
        "\n",
        "#validationloader \n",
        "valloader = torch.utils.data.DataLoader(\n",
        "    valset,\n",
        "    batch_size=batch_size,\n",
        "    num_workers=num_workers,\n",
        "    worker_init_fn=seed_worker,\n",
        "    generator=g,\n",
        ")"
      ],
      "metadata": {
        "id": "JZC285cQ-Vih"
      },
      "execution_count": null,
      "outputs": []
    },
    {
      "cell_type": "markdown",
      "source": [
        "## Contoh Training Images "
      ],
      "metadata": {
        "id": "xY2xNd4lB6vH"
      }
    },
    {
      "cell_type": "code",
      "execution_count": null,
      "metadata": {
        "id": "AzAAk1LXmaDy",
        "colab": {
          "base_uri": "https://localhost:8080/",
          "height": 210
        },
        "outputId": "bb3f212a-fd4b-43a1-86af-13ef889bd274"
      },
      "outputs": [
        {
          "output_type": "display_data",
          "data": {
            "text/plain": [
              "<Figure size 640x480 with 1 Axes>"
            ],
            "image/png": "[encoded data removed]"
          },
          "metadata": {}
        },
        {
          "output_type": "stream",
          "name": "stdout",
          "text": [
            "frog  deer  horse car  \n"
          ]
        }
      ],
      "source": [
        "import matplotlib.pyplot as plt\n",
        "import numpy as np\n",
        "\n",
        "# functions to show an image\n",
        "\n",
        "\n",
        "def imshow(img):\n",
        "    img = img / 2 + 0.5     # unnormalize\n",
        "    npimg = img.numpy()\n",
        "    plt.imshow(np.transpose(npimg, (1, 2, 0)))\n",
        "    plt.show()\n",
        "\n",
        "\n",
        "# get some random training images\n",
        "dataiter = iter(trainloader)\n",
        "images, labels = next(dataiter)\n",
        "\n",
        "# show images\n",
        "imshow(torchvision.utils.make_grid(images))\n",
        "# print labels\n",
        "print(' '.join(f'{classes[labels[j]]:5s}' for j in range(batch_size)))"
      ]
    },
    {
      "cell_type": "markdown",
      "source": [
        "## Mendefinisikan Model CNN "
      ],
      "metadata": {
        "id": "auZ5-a5sCFPg"
      }
    },
    {
      "cell_type": "code",
      "execution_count": null,
      "metadata": {
        "id": "65jcuJ-KmaDy",
        "colab": {
          "base_uri": "https://localhost:8080/"
        },
        "outputId": "768f2c2e-00df-4399-d7cf-f0d32e8da479"
      },
      "outputs": [
        {
          "output_type": "execute_result",
          "data": {
            "text/plain": [
              "Net(\n",
              "  (conv1): Conv2d(3, 6, kernel_size=(5, 5), stride=(1, 1))\n",
              "  (pool): MaxPool2d(kernel_size=2, stride=2, padding=0, dilation=1, ceil_mode=False)\n",
              "  (conv2): Conv2d(6, 16, kernel_size=(5, 5), stride=(1, 1))\n",
              "  (fc1): Linear(in_features=400, out_features=120, bias=True)\n",
              "  (fc2): Linear(in_features=120, out_features=84, bias=True)\n",
              "  (fc3): Linear(in_features=84, out_features=10, bias=True)\n",
              ")"
            ]
          },
          "metadata": {},
          "execution_count": 22
        }
      ],
      "source": [
        "import torch.nn as nn\n",
        "import torch.nn.functional as F\n",
        "\n",
        "\n",
        "class Net(nn.Module):\n",
        "    def __init__(self):\n",
        "        super().__init__()\n",
        "        self.conv1 = nn.Conv2d(3, 6, 5) # model 7b ganti out channel = 12, model 7c tambah stride = 2, padding = 1\n",
        "        self.pool = nn.MaxPool2d(2, 2)\n",
        "        self.conv2 = nn.Conv2d(6, 16, 5)\n",
        "        self.fc1 = nn.Linear(16 * 5 * 5, 120)\n",
        "        self.fc2 = nn.Linear(120, 84)\n",
        "        self.fc3 = nn.Linear(84, 10)\n",
        "\n",
        "    def forward(self, x):\n",
        "        # torch.Size([4, 3, 32, 32])\n",
        "        x = self.pool(F.relu(self.conv1(x))) # (32+2*(0)-5)/1 + 1 = 28, 28/2 = 14 \n",
        "        #print(\"pool1\", x.size())\n",
        "        # pool1 torch.Size([4, 6, 14, 14])\n",
        "\n",
        "        x = self.pool(F.relu(self.conv2(x))) # (14+2*(0)-5)/1 + 1 = 10, 10/2 = 5\n",
        "        #print(\"pool2\", x.size())\n",
        "        # pool2 torch.Size([4, 16, 5, 5])\n",
        "\n",
        "        x = torch.flatten(x, 1) # flatten all dimensions except batch\n",
        "        #print(\"flatten\", x.size())\n",
        "        # flatten torch.Size([4, 400])\n",
        "\n",
        "        x = F.relu(self.fc1(x))\n",
        "        #print(\"fc1\", x.size())\n",
        "        # fc1 torch.Size([4, 120])\n",
        "\n",
        "        x = F.relu(self.fc2(x))\n",
        "        #print(\"fc2\", x.size())\n",
        "        # fc2 torch.Size()[4, 84]\n",
        "\n",
        "        x = self.fc3(x)\n",
        "        return x\n",
        "\n",
        "net = Net()\n",
        "device = torch.device('cuda:0' if torch.cuda.is_available() else 'cpu')\n",
        "net.to(device)"
      ]
    },
    {
      "cell_type": "code",
      "source": [
        "# Print model's state_dict\n",
        "print(\"Model's state_dict:\")\n",
        "for param_tensor in net.state_dict():\n",
        "  # if param_tensor == 'fc1.weight':\n",
        "    print(param_tensor, \"\\t\", net.state_dict()[param_tensor].size())"
      ],
      "metadata": {
        "id": "I7EDc8cbIJMs",
        "colab": {
          "base_uri": "https://localhost:8080/"
        },
        "outputId": "36b61fb3-47bb-461c-df29-6cc854fde6b6"
      },
      "execution_count": null,
      "outputs": [
        {
          "output_type": "stream",
          "name": "stdout",
          "text": [
            "Model's state_dict:\n",
            "conv1.weight \t torch.Size([6, 3, 5, 5])\n",
            "conv1.bias \t torch.Size([6])\n",
            "conv2.weight \t torch.Size([16, 6, 5, 5])\n",
            "conv2.bias \t torch.Size([16])\n",
            "fc1.weight \t torch.Size([120, 400])\n",
            "fc1.bias \t torch.Size([120])\n",
            "fc2.weight \t torch.Size([84, 120])\n",
            "fc2.bias \t torch.Size([84])\n",
            "fc3.weight \t torch.Size([10, 84])\n",
            "fc3.bias \t torch.Size([10])\n"
          ]
        }
      ]
    },
    {
      "cell_type": "code",
      "execution_count": null,
      "metadata": {
        "id": "SLDwCzY7maDz"
      },
      "outputs": [],
      "source": [
        "import torch.optim as optim\n",
        "net.to(device)\n",
        "criterion = nn.CrossEntropyLoss()\n",
        "optimizer = optim.SGD(net.parameters(), lr=0.001, momentum=0.9)"
      ]
    },
    {
      "cell_type": "code",
      "execution_count": null,
      "metadata": {
        "id": "Z-OCHhvHmaD0",
        "colab": {
          "base_uri": "https://localhost:8080/"
        },
        "outputId": "a4219b52-2aa0-41c7-ee42-5e1760cb672c"
      },
      "outputs": [
        {
          "output_type": "stream",
          "name": "stdout",
          "text": [
            "[1,  2000] loss: 2.189\n",
            "[1,  4000] loss: 1.830\n",
            "[1,  6000] loss: 1.662\n",
            "[1,  8000] loss: 1.573\n",
            "[1, 10000] loss: 1.523\n",
            "Epoch : 1: Accuracy of the network on the 5000 val images:46.32\n",
            "[2,  2000] loss: 1.429\n",
            "[2,  4000] loss: 1.421\n",
            "[2,  6000] loss: 1.383\n",
            "[2,  8000] loss: 1.344\n",
            "[2, 10000] loss: 1.315\n",
            "Epoch : 2: Accuracy of the network on the 5000 val images:53.09\n",
            "[3,  2000] loss: 1.257\n",
            "[3,  4000] loss: 1.265\n",
            "[3,  6000] loss: 1.234\n",
            "[3,  8000] loss: 1.223\n",
            "[3, 10000] loss: 1.195\n",
            "Epoch : 3: Accuracy of the network on the 5000 val images:57.16\n",
            "[4,  2000] loss: 1.151\n",
            "[4,  4000] loss: 1.156\n",
            "[4,  6000] loss: 1.137\n",
            "[4,  8000] loss: 1.135\n",
            "[4, 10000] loss: 1.107\n",
            "Epoch : 4: Accuracy of the network on the 5000 val images:59.52\n",
            "[5,  2000] loss: 1.071\n",
            "[5,  4000] loss: 1.078\n",
            "[5,  6000] loss: 1.056\n",
            "[5,  8000] loss: 1.053\n",
            "[5, 10000] loss: 1.036\n",
            "Epoch : 5: Accuracy of the network on the 5000 val images:59.67\n",
            "[6,  2000] loss: 1.006\n",
            "[6,  4000] loss: 1.018\n",
            "[6,  6000] loss: 1.004\n",
            "[6,  8000] loss: 0.987\n",
            "[6, 10000] loss: 0.979\n",
            "Epoch : 6: Accuracy of the network on the 5000 val images:59.46\n",
            "[7,  2000] loss: 0.952\n",
            "[7,  4000] loss: 0.964\n",
            "[7,  6000] loss: 0.954\n",
            "[7,  8000] loss: 0.929\n",
            "[7, 10000] loss: 0.939\n",
            "Epoch : 7: Accuracy of the network on the 5000 val images:60.0\n",
            "[8,  2000] loss: 0.903\n",
            "[8,  4000] loss: 0.918\n",
            "[8,  6000] loss: 0.914\n",
            "[8,  8000] loss: 0.895\n",
            "[8, 10000] loss: 0.897\n",
            "Epoch : 8: Accuracy of the network on the 5000 val images:59.07\n",
            "[9,  2000] loss: 0.877\n",
            "[9,  4000] loss: 0.869\n",
            "[9,  6000] loss: 0.877\n",
            "[9,  8000] loss: 0.857\n",
            "[9, 10000] loss: 0.861\n",
            "Epoch : 9: Accuracy of the network on the 5000 val images:58.88\n",
            "[10,  2000] loss: 0.843\n",
            "[10,  4000] loss: 0.840\n",
            "[10,  6000] loss: 0.845\n",
            "[10,  8000] loss: 0.814\n",
            "[10, 10000] loss: 0.827\n",
            "Epoch : 10: Accuracy of the network on the 5000 val images:58.41\n",
            "Finished Training\n"
          ]
        }
      ],
      "source": [
        "n_epoch = 10\n",
        "val_accuracies = []\n",
        "max_accu = 0\n",
        "for epoch in range(n_epoch):  # loop over the dataset multiple times\n",
        "    \n",
        "    running_loss = 0.0\n",
        "    for i, data in enumerate(trainloader, 0):\n",
        "        # get the inputs; data is a list of [inputs, labels]\n",
        "        inputs, labels = data[0].to(device), data[1].to(device)\n",
        "\n",
        "        # zero the parameter gradients\n",
        "        optimizer.zero_grad()\n",
        "\n",
        "        # forward + backward + optimize\n",
        "        outputs = net(inputs)\n",
        "        loss = criterion(outputs, labels)\n",
        "        loss.backward()\n",
        "        optimizer.step()\n",
        "\n",
        "        # print statistics\n",
        "        running_loss += loss.item()\n",
        "        if i % 2000 == 1999:    # print every 2000 mini-batches\n",
        "            print(f'[{epoch + 1}, {i + 1:5d}] loss: {running_loss / 2000:.3f}')\n",
        "            running_loss = 0.0\n",
        "    correct = 0\n",
        "    total = 0\n",
        "    with torch.no_grad():\n",
        "      for data in testloader:\n",
        "          images, labels = data[0].to(device), data[1].to(device)\n",
        "          # calculate outputs by running images through the network\n",
        "          outputs = net(images)\n",
        "          # the class with the highest energy is what we choose as prediction\n",
        "          _, predicted = torch.max(outputs.data, 1)\n",
        "          total += labels.size(0)\n",
        "          correct += (predicted == labels).sum().item()\n",
        "          \n",
        "    print(f'Epoch : {epoch + 1}: Accuracy of the network on the 5000 val images:{100*correct/ total}' )\n",
        "    akurasi = 100 * correct / total\n",
        "    val_accuracies.append(akurasi) \n",
        "\n",
        "    #Ambil model dengan akurasi terbaik\n",
        "    if akurasi >= max_accu:\n",
        "        torch.save(net.state_dict(),'net_best_accuracy')\n",
        "        max_accu = akurasi  \n",
        "print('Finished Training')"
      ]
    },
    {
      "cell_type": "markdown",
      "source": [
        "## Cek Akurasi pada Validation Set"
      ],
      "metadata": {
        "id": "E8w3jq18IbVK"
      }
    },
    {
      "cell_type": "code",
      "source": [
        "from matplotlib import pyplot as plt\n",
        "plt.figure()\n",
        "plt.xlabel(\"Epoch\")\n",
        "plt.plot(range(1, len(val_accuracies) + 1), val_accuracies)\n",
        "plt.title(\"Accuracies on Validation Set\")\n",
        "plt.show()"
      ],
      "metadata": {
        "id": "haggE_7TW7fY",
        "colab": {
          "base_uri": "https://localhost:8080/",
          "height": 472
        },
        "outputId": "f8023750-b7c1-430f-be9a-480acd33e0a6"
      },
      "execution_count": null,
      "outputs": [
        {
          "output_type": "display_data",
          "data": {
            "text/plain": [
              "<Figure size 640x480 with 1 Axes>"
            ],
            "image/png": "[encoded data removed]"
          },
          "metadata": {}
        }
      ]
    },
    {
      "cell_type": "code",
      "execution_count": null,
      "metadata": {
        "id": "9GRmMfqcmaD0"
      },
      "outputs": [],
      "source": [
        "PATH = './cifar_net.pth'\n",
        "torch.save(net.state_dict(), PATH)"
      ]
    },
    {
      "cell_type": "code",
      "execution_count": null,
      "metadata": {
        "id": "OVJunp9XmaD1",
        "colab": {
          "base_uri": "https://localhost:8080/",
          "height": 210
        },
        "outputId": "f01a639a-304a-48d7-fa36-e16feec382b6"
      },
      "outputs": [
        {
          "output_type": "display_data",
          "data": {
            "text/plain": [
              "<Figure size 640x480 with 1 Axes>"
            ],
            "image/png": "[encoded data removed]"
          },
          "metadata": {}
        },
        {
          "output_type": "stream",
          "name": "stdout",
          "text": [
            "GroundTruth:  cat   ship  ship  plane\n"
          ]
        }
      ],
      "source": [
        "dataiter = iter(testloader)\n",
        "images, labels = next(dataiter)\n",
        "\n",
        "# print images\n",
        "imshow(torchvision.utils.make_grid(images))\n",
        "print('GroundTruth: ', ' '.join(f'{classes[labels[j]]:5s}' for j in range(4)))"
      ]
    },
    {
      "cell_type": "code",
      "execution_count": null,
      "metadata": {
        "id": "Aw4tJp1CmaD1",
        "colab": {
          "base_uri": "https://localhost:8080/"
        },
        "outputId": "f76d6462-5e55-483e-a1a2-795575c78310"
      },
      "outputs": [
        {
          "output_type": "execute_result",
          "data": {
            "text/plain": [
              "<All keys matched successfully>"
            ]
          },
          "metadata": {},
          "execution_count": 29
        }
      ],
      "source": [
        "net = Net()\n",
        "net.load_state_dict(torch.load(PATH))"
      ]
    },
    {
      "cell_type": "code",
      "execution_count": null,
      "metadata": {
        "id": "NtYSaciemaD1"
      },
      "outputs": [],
      "source": [
        "outputs = net(images)"
      ]
    },
    {
      "cell_type": "code",
      "execution_count": null,
      "metadata": {
        "id": "lZVJ3AI9maD2",
        "colab": {
          "base_uri": "https://localhost:8080/"
        },
        "outputId": "c9962334-a2b5-48a3-965b-bd9e87ddacbe"
      },
      "outputs": [
        {
          "output_type": "stream",
          "name": "stdout",
          "text": [
            "Predicted:  cat   ship  ship  plane\n"
          ]
        }
      ],
      "source": [
        "_, predicted = torch.max(outputs, 1)\n",
        "\n",
        "print('Predicted: ', ' '.join(f'{classes[predicted[j]]:5s}'\n",
        "                              for j in range(4)))"
      ]
    },
    {
      "cell_type": "code",
      "execution_count": null,
      "metadata": {
        "id": "v7R771-ImaD2",
        "colab": {
          "base_uri": "https://localhost:8080/"
        },
        "outputId": "4198b3e0-00e9-4c21-9f6a-61f0b18bca1c"
      },
      "outputs": [
        {
          "output_type": "stream",
          "name": "stdout",
          "text": [
            "Accuracy of the network on the 10000 test images: 58 %\n"
          ]
        }
      ],
      "source": [
        "correct = 0\n",
        "total = 0\n",
        "# since we're not training, we don't need to calculate the gradients for our outputs\n",
        "with torch.no_grad():\n",
        "    for data in testloader:\n",
        "        images, labels = data\n",
        "        # calculate outputs by running images through the network\n",
        "        outputs = net(images)\n",
        "        # the class with the highest energy is what we choose as prediction\n",
        "        _, predicted = torch.max(outputs.data, 1) # menggunakan detach() dan cpu()\n",
        "        total += labels.size(0)\n",
        "        correct += (predicted == labels).sum().item()\n",
        "\n",
        "print(f'Accuracy of the network on the 10000 test images: {100 * correct // total} %')"
      ]
    },
    {
      "cell_type": "code",
      "execution_count": null,
      "metadata": {
        "id": "kX-anucpmaD2",
        "colab": {
          "base_uri": "https://localhost:8080/"
        },
        "outputId": "e5b73169-08ca-463a-8076-773b7f33dfea"
      },
      "outputs": [
        {
          "output_type": "stream",
          "name": "stdout",
          "text": [
            "Accuracy for class: plane is 68.3 %\n",
            "Accuracy for class: car   is 69.5 %\n",
            "Accuracy for class: bird  is 42.2 %\n",
            "Accuracy for class: cat   is 34.7 %\n",
            "Accuracy for class: deer  is 50.0 %\n",
            "Accuracy for class: dog   is 47.0 %\n",
            "Accuracy for class: frog  is 78.5 %\n",
            "Accuracy for class: horse is 63.2 %\n",
            "Accuracy for class: ship  is 65.9 %\n",
            "Accuracy for class: truck is 64.8 %\n"
          ]
        }
      ],
      "source": [
        "# prepare to count predictions for each class\n",
        "correct_pred = {classname: 0 for classname in classes}\n",
        "total_pred = {classname: 0 for classname in classes}\n",
        "\n",
        "# again no gradients needed\n",
        "with torch.no_grad():\n",
        "    for data in testloader:\n",
        "        images, labels = data\n",
        "        outputs = net(images)\n",
        "        _, predictions = torch.max(outputs, 1)\n",
        "        # collect the correct predictions for each class\n",
        "        for label, prediction in zip(labels, predictions):\n",
        "            if label == prediction:\n",
        "                correct_pred[classes[label]] += 1\n",
        "            total_pred[classes[label]] += 1\n",
        "\n",
        "\n",
        "# print accuracy for each class\n",
        "for classname, correct_count in correct_pred.items():\n",
        "    accuracy = 100 * float(correct_count) / total_pred[classname]\n",
        "    print(f'Accuracy for class: {classname:5s} is {accuracy:.1f} %')"
      ]
    },
    {
      "cell_type": "markdown",
      "source": [
        "## Cek device yang digunakan "
      ],
      "metadata": {
        "id": "euq0JoV9J2da"
      }
    },
    {
      "cell_type": "code",
      "execution_count": null,
      "metadata": {
        "id": "ndKi8gyXmaD3",
        "colab": {
          "base_uri": "https://localhost:8080/"
        },
        "outputId": "42c52a12-1a8e-47b8-dfc3-2678fa8eabad"
      },
      "outputs": [
        {
          "output_type": "stream",
          "name": "stdout",
          "text": [
            "cuda:0\n"
          ]
        }
      ],
      "source": [
        "device = torch.device('cuda:0' if torch.cuda.is_available() else 'cpu')\n",
        "\n",
        "# Assuming that we are on a CUDA machine, this should print a CUDA device:\n",
        "\n",
        "print(device) "
      ]
    },
    {
      "cell_type": "code",
      "execution_count": null,
      "metadata": {
        "id": "b8gnQuTImaD3"
      },
      "outputs": [],
      "source": [
        "del dataiter"
      ]
    }
  ],
  "metadata": {
    "kernelspec": {
      "display_name": "Python 3",
      "language": "python",
      "name": "python3"
    },
    "language_info": {
      "codemirror_mode": {
        "name": "ipython",
        "version": 3
      },
      "file_extension": ".py",
      "mimetype": "text/x-python",
      "name": "python",
      "nbconvert_exporter": "python",
      "pygments_lexer": "ipython3",
      "version": "3.10.10"
    },
    "colab": {
      "provenance": [],
      "toc_visible": true,
      "gpuType": "T4"
    },
    "accelerator": "GPU",
    "gpuClass": "standard"
  },
  "nbformat": 4,
  "nbformat_minor": 0
}